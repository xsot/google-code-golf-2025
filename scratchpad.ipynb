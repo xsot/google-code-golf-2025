{
 "cells": [
  {
   "cell_type": "code",
   "execution_count": 41,
   "id": "b721d7d9-d4ee-4e9f-a2ed-6a0d1f268fe6",
   "metadata": {},
   "outputs": [],
   "source": [
    "%run -i \"/home/wh/google-code-golf/code_golf_utils/code_golf_utils.py\""
   ]
  },
  {
   "cell_type": "code",
   "execution_count": 42,
   "id": "798c3c8d-9559-4ca1-bc16-2742d82e945f",
   "metadata": {},
   "outputs": [
    {
     "data": {
      "image/png": "[encoded data removed]",
      "text/plain": [
       "<Figure size 400x200 with 1 Axes>"
      ]
     },
     "metadata": {},
     "output_type": "display_data"
    }
   ],
   "source": [
    "show_legend()"
   ]
  },
  {
   "cell_type": "code",
   "execution_count": 43,
   "id": "5e3e1280-d4f5-49eb-8c2b-264146200fec",
   "metadata": {},
   "outputs": [
    {
     "data": {
      "text/plain": [
       "'[[0, 0, 0, 0, 0, 0, 0, 0, 0, 0, 0, 0], [0, 0, 3, 3, 0, 0, 0, 0, 0, 0, 0, 0], [0, 0, 3, 3, 0, 0, 0, 0, 0, 8, 0, 0], [0, 0, 3, 3, 3, 0, 0, 0, 8, 8, 0, 0], [0, 3, 0, 0, 0, 0, 0, 0, 0, 0, 8, 0], [0, 0, 0, 0, 0, 0, 0, 0, 0, 0, 0, 0], [0, 0, 0, 0, 2, 2, 0, 0, 0, 0, 0, 0], [0, 0, 0, 2, 2, 2, 2, 0, 0, 0, 0, 0], [0, 0, 0, 0, 2, 0, 0, 0, 0, 0, 0, 0], [0, 0, 0, 0, 0, 0, 0, 0, 0, 0, 0, 0], [0, 0, 0, 0, 0, 0, 0, 0, 0, 0, 0, 0], [0, 0, 0, 0, 0, 0, 0, 0, 0, 0, 0, 0]]'"
      ]
     },
     "execution_count": 43,
     "metadata": {},
     "output_type": "execute_result"
    }
   ],
   "source": [
    "a=load_examples(393)['train'][0]['input']\n",
    "str(a)"
   ]
  },
  {
   "cell_type": "code",
   "execution_count": 8,
   "id": "87a7a350-fbe2-495f-b06d-a04479f977db",
   "metadata": {},
   "outputs": [
    {
     "name": "stdout",
     "output_type": "stream",
     "text": [
      "Overwriting task001.py\n"
     ]
    }
   ],
   "source": [
    "%%writefile task001.py\n",
    "p=lambda m,R=range(9):[[m[r//3][c//3]*(m[r%3][c%3]>0)for c in R]for r in R]\n",
    "# p=lambda m:[[m[r//3][c//3]*(m[r%3][c%3]>0)for c in range(9)]for r in range(9)]"
   ]
  },
  {
   "cell_type": "code",
   "execution_count": 56,
   "id": "7339a5ee-2c9b-4513-aa70-6d71aaf96233",
   "metadata": {},
   "outputs": [
    {
     "name": "stdout",
     "output_type": "stream",
     "text": [
      "\n",
      "Success! Passed 266 test cases. Length = 161 bytes\n"
     ]
    }
   ],
   "source": [
    "verify_program(162)"
   ]
  },
  {
   "cell_type": "code",
   "execution_count": 376,
   "id": "fa56a954-6c46-443a-a5d6-dbc128fa9025",
   "metadata": {},
   "outputs": [
    {
     "data": {
      "text/plain": [
       "[35, 67, 99, 128, 129, 130]"
      ]
     },
     "execution_count": 376,
     "metadata": {},
     "output_type": "execute_result"
    }
   ],
   "source": [
    "a=[(i+2)<<5|(j+1) for i,j in [(-1,2),(0,2),(1,2),(2,-1),(2,0),(2,1)]]\n",
    "a"
   ]
  },
  {
   "cell_type": "code",
   "execution_count": 373,
   "id": "968ff405-5127-4d94-8c63-2783152147eb",
   "metadata": {},
   "outputs": [
    {
     "data": {
      "text/plain": [
       "[32, 64, 96, 33, 97, 34, 66, 98]"
      ]
     },
     "execution_count": 373,
     "metadata": {},
     "output_type": "execute_result"
    }
   ],
   "source": [
    "a=[(i+2)<<5|(j+1) for i,j in [(-1,-1),(0,-1),(1,-1),(-1,0),(1,0),(-1,1),(0,1),(1,1)]]\n",
    "a"
   ]
  },
  {
   "cell_type": "code",
   "execution_count": 331,
   "id": "0b456204-cced-4c47-aa15-962a491d1e57",
   "metadata": {},
   "outputs": [
    {
     "name": "stdout",
     "output_type": "stream",
     "text": [
      "-1 -1\n",
      "0 -1\n",
      "1 -1\n",
      "-1 0\n",
      "1 0\n",
      "-1 1\n",
      "0 1\n",
      "1 1\n"
     ]
    }
   ],
   "source": [
    "for i in a:\n",
    "    print(i//32-2,i%4-1)"
   ]
  },
  {
   "cell_type": "code",
   "execution_count": 132,
   "id": "ba6940d8-5964-4b55-beb9-f042632be025",
   "metadata": {},
   "outputs": [],
   "source": [
    "a=[[1, 2, 3], [4, 5, 6], [7, 8, 9]]"
   ]
  },
  {
   "cell_type": "code",
   "execution_count": 135,
   "id": "9f0738c8-0ab5-414a-85ca-64e6cd5909b1",
   "metadata": {},
   "outputs": [
    {
     "data": {
      "text/plain": [
       "[[7, 4, 1], [8, 5, 2], [9, 6, 3]]"
      ]
     },
     "execution_count": 135,
     "metadata": {},
     "output_type": "execute_result"
    }
   ],
   "source": [
    "[*map(list,zip(*a[::-1]))]"
   ]
  },
  {
   "cell_type": "code",
   "execution_count": 72,
   "id": "aa1313f4-6703-43d1-a535-4eab1615842c",
   "metadata": {},
   "outputs": [],
   "source": [
    "m=re.search('2([^]]*)(.*2)', '[[1, 2, 2, 2], [3, 2, 3, 2], [4, 2, 2, 2]]')"
   ]
  },
  {
   "cell_type": "code",
   "execution_count": 57,
   "id": "2b14166b-7104-4148-bd11-5b16348406e9",
   "metadata": {},
   "outputs": [
    {
     "data": {
      "text/plain": [
       "(5, 40)"
      ]
     },
     "execution_count": 57,
     "metadata": {},
     "output_type": "execute_result"
    }
   ],
   "source": [
    "m.span()"
   ]
  },
  {
   "cell_type": "code",
   "execution_count": 61,
   "id": "619738dc-f986-4391-b70b-d5d279599694",
   "metadata": {},
   "outputs": [
    {
     "data": {
      "text/plain": [
       "<re.Match object; span=(5, 40), match='2, 2, 2], [3, 2, 3, 2], [4, 2, 2, 2'>"
      ]
     },
     "execution_count": 61,
     "metadata": {},
     "output_type": "execute_result"
    }
   ],
   "source": [
    "m"
   ]
  },
  {
   "cell_type": "code",
   "execution_count": 73,
   "id": "c41f295d-286f-4835-a7cb-b9bbd5af21ed",
   "metadata": {},
   "outputs": [
    {
     "data": {
      "text/plain": [
       "(', 2, 2', '], [3, 2, 3, 2], [4, 2, 2, 2')"
      ]
     },
     "execution_count": 73,
     "metadata": {},
     "output_type": "execute_result"
    }
   ],
   "source": [
    "m.groups()"
   ]
  }
 ],
 "metadata": {
  "kernelspec": {
   "display_name": "Python 3 (ipykernel)",
   "language": "python",
   "name": "python3"
  },
  "language_info": {
   "codemirror_mode": {
    "name": "ipython",
    "version": 3
   },
   "file_extension": ".py",
   "mimetype": "text/x-python",
   "name": "python",
   "nbconvert_exporter": "python",
   "pygments_lexer": "ipython3",
   "version": "3.11.13"
  }
 },
 "nbformat": 4,
 "nbformat_minor": 5
}
