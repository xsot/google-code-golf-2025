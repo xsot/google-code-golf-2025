{
 "cells": [
  {
   "cell_type": "code",
   "execution_count": 1,
   "id": "b721d7d9-d4ee-4e9f-a2ed-6a0d1f268fe6",
   "metadata": {},
   "outputs": [],
   "source": [
    "%run -i \"/home/wh/google-code-golf-2025/code_golf_utils/code_golf_utils.py\""
   ]
  },
  {
   "cell_type": "code",
   "execution_count": 2,
   "id": "798c3c8d-9559-4ca1-bc16-2742d82e945f",
   "metadata": {},
   "outputs": [
    {
     "data": {
      "image/png": "[encoded data removed]",
      "text/plain": [
       "<Figure size 400x200 with 1 Axes>"
      ]
     },
     "metadata": {},
     "output_type": "display_data"
    }
   ],
   "source": [
    "show_legend()"
   ]
  },
  {
   "cell_type": "code",
   "execution_count": 50,
   "id": "5e3e1280-d4f5-49eb-8c2b-264146200fec",
   "metadata": {},
   "outputs": [
    {
     "data": {
      "text/plain": [
       "'[[9, 0, 0, 0, 0, 2, 8, 0, 9, 0, 2, 0, 9], [1, 0, 0, 6, 0, 0, 0, 0, 0, 0, 0, 9, 5], [9, 0, 4, 9, 3, 0, 0, 5, 7, 0, 8, 0, 8], [0, 0, 8, 6, 0, 6, 0, 1, 0, 0, 0, 4, 1], [3, 6, 0, 1, 0, 3, 9, 0, 0, 4, 5, 7, 2], [0, 8, 0, 0, 0, 0, 0, 0, 7, 1, 8, 0, 0], [9, 0, 0, 2, 0, 0, 0, 7, 5, 7, 0, 8, 4], [0, 0, 0, 8, 7, 5, 0, 0, 7, 0, 0, 5, 0], [9, 9, 0, 0, 0, 0, 5, 0, 0, 5, 0, 0, 0], [8, 0, 0, 8, 0, 6, 5, 0, 0, 0, 0, 9, 0], [4, 0, 0, 6, 0, 7, 9, 9, 8, 0, 5, 7, 3], [0, 0, 0, 0, 0, 0, 0, 7, 2, 0, 0, 0, 8], [0, 0, 0, 7, 5, 0, 5, 0, 0, 0, 0, 0, 3]]'"
      ]
     },
     "execution_count": 50,
     "metadata": {},
     "output_type": "execute_result"
    }
   ],
   "source": [
    "a=load_examples(243)['train'][0]['input']\n",
    "str(str(a))"
   ]
  },
  {
   "cell_type": "code",
   "execution_count": 4,
   "id": "87a7a350-fbe2-495f-b06d-a04479f977db",
   "metadata": {},
   "outputs": [
    {
     "name": "stdout",
     "output_type": "stream",
     "text": [
      "Overwriting task001.py\n"
     ]
    }
   ],
   "source": [
    "%%writefile task001.py\n",
    "p=lambda m,R=range(9):[[m[r//3][c//3]*(m[r%3][c%3]>0)for c in R]for r in R]\n",
    "# p=lambda m:[[m[r//3][c//3]*(m[r%3][c%3]>0)for c in range(9)]for r in range(9)]"
   ]
  },
  {
   "cell_type": "code",
   "execution_count": 147,
   "id": "7339a5ee-2c9b-4513-aa70-6d71aaf96233",
   "metadata": {},
   "outputs": [
    {
     "name": "stdout",
     "output_type": "stream",
     "text": [
      "\n",
      "Fail!\n",
      "The expected result is shown in green; your actual result is shown in red.\n"
     ]
    },
    {
     "ename": "ValueError",
     "evalue": "max() arg is an empty sequence",
     "output_type": "error",
     "traceback": [
      "\u001b[31m---------------------------------------------------------------------------\u001b[39m",
      "\u001b[31mValueError\u001b[39m                                Traceback (most recent call last)",
      "\u001b[36mCell\u001b[39m\u001b[36m \u001b[39m\u001b[32mIn[147]\u001b[39m\u001b[32m, line 1\u001b[39m\n\u001b[32m----> \u001b[39m\u001b[32m1\u001b[39m \u001b[43mverify_program\u001b[49m\u001b[43m(\u001b[49m\u001b[32;43m389\u001b[39;49m\u001b[43m)\u001b[49m\n",
      "\u001b[36mFile \u001b[39m\u001b[32m~/google-code-golf-2025/code_golf_utils/code_golf_utils.py:241\u001b[39m, in \u001b[36mverify_program\u001b[39m\u001b[34m(task_num, examples)\u001b[39m\n\u001b[32m    239\u001b[39m   \u001b[38;5;28mprint\u001b[39m(\u001b[33m\"\u001b[39m\u001b[33mThe expected result is shown in green; your actual result is shown in red.\u001b[39m\u001b[33m\"\u001b[39m)\n\u001b[32m    240\u001b[39m   show_examples([first_failure], bgcolor=(\u001b[32m200\u001b[39m, \u001b[32m255\u001b[39m, \u001b[32m200\u001b[39m))\n\u001b[32m--> \u001b[39m\u001b[32m241\u001b[39m   actual[\u001b[33m\"\u001b[39m\u001b[33moutput\u001b[39m\u001b[33m\"\u001b[39m] = \u001b[43mprogram\u001b[49m\u001b[43m(\u001b[49m\u001b[43mcopy\u001b[49m\u001b[43m.\u001b[49m\u001b[43mdeepcopy\u001b[49m\u001b[43m(\u001b[49m\u001b[43mfirst_failure\u001b[49m\u001b[43m[\u001b[49m\u001b[33;43m\"\u001b[39;49m\u001b[33;43minput\u001b[39;49m\u001b[33;43m\"\u001b[39;49m\u001b[43m]\u001b[49m\u001b[43m)\u001b[49m\u001b[43m)\u001b[49m\n\u001b[32m    242\u001b[39m   show_examples([actual], bgcolor=(\u001b[32m255\u001b[39m, \u001b[32m200\u001b[39m, \u001b[32m200\u001b[39m))\n\u001b[32m    243\u001b[39m os.unlink(task_path)\n",
      "\u001b[36mFile \u001b[39m\u001b[32m/tmp/tmpyfmibu8e.py:1\u001b[39m, in \u001b[36m<lambda>\u001b[39m\u001b[34m(m)\u001b[39m\n\u001b[32m----> \u001b[39m\u001b[32m1\u001b[39m p=\u001b[38;5;28;01mlambda\u001b[39;00m m:\u001b[43m[\u001b[49m\u001b[43m[\u001b[49m\u001b[43m(\u001b[49m\u001b[43mv\u001b[49m\u001b[43m==\u001b[49m\u001b[32;43m5\u001b[39;49m\u001b[43m)\u001b[49m\u001b[43m*\u001b[49m\u001b[38;5;28;43mmax\u001b[39;49m\u001b[43m(\u001b[49m\u001b[43m{\u001b[49m\u001b[43m*\u001b[49m\u001b[38;5;28;43mmin\u001b[39;49m\u001b[43m(\u001b[49m\u001b[43m*\u001b[49m\u001b[43mm\u001b[49m\u001b[43m)\u001b[49m\u001b[43m}\u001b[49m\u001b[43m-\u001b[49m\u001b[43m{\u001b[49m\u001b[32;43m5\u001b[39;49m\u001b[43m}\u001b[49m\u001b[43m)\u001b[49m\u001b[38;5;28;43;01mfor\u001b[39;49;00m\u001b[43m \u001b[49m\u001b[43mv\u001b[49m\u001b[43m \u001b[49m\u001b[38;5;129;43;01min\u001b[39;49;00m\u001b[43m \u001b[49m\u001b[43ml\u001b[49m\u001b[43m]\u001b[49m\u001b[38;5;28;43;01mfor\u001b[39;49;00m\u001b[43m \u001b[49m\u001b[43ml\u001b[49m\u001b[43m \u001b[49m\u001b[38;5;129;43;01min\u001b[39;49;00m\u001b[43m \u001b[49m\u001b[43mm\u001b[49m\u001b[43m]\u001b[49m\n",
      "\u001b[36mFile \u001b[39m\u001b[32m/tmp/tmpyfmibu8e.py:1\u001b[39m, in \u001b[36m<listcomp>\u001b[39m\u001b[34m(.0)\u001b[39m\n\u001b[32m----> \u001b[39m\u001b[32m1\u001b[39m p=\u001b[38;5;28;01mlambda\u001b[39;00m m:[\u001b[43m[\u001b[49m\u001b[43m(\u001b[49m\u001b[43mv\u001b[49m\u001b[43m==\u001b[49m\u001b[32;43m5\u001b[39;49m\u001b[43m)\u001b[49m\u001b[43m*\u001b[49m\u001b[38;5;28;43mmax\u001b[39;49m\u001b[43m(\u001b[49m\u001b[43m{\u001b[49m\u001b[43m*\u001b[49m\u001b[38;5;28;43mmin\u001b[39;49m\u001b[43m(\u001b[49m\u001b[43m*\u001b[49m\u001b[43mm\u001b[49m\u001b[43m)\u001b[49m\u001b[43m}\u001b[49m\u001b[43m-\u001b[49m\u001b[43m{\u001b[49m\u001b[32;43m5\u001b[39;49m\u001b[43m}\u001b[49m\u001b[43m)\u001b[49m\u001b[38;5;28;43;01mfor\u001b[39;49;00m\u001b[43m \u001b[49m\u001b[43mv\u001b[49m\u001b[43m \u001b[49m\u001b[38;5;129;43;01min\u001b[39;49;00m\u001b[43m \u001b[49m\u001b[43ml\u001b[49m\u001b[43m]\u001b[49m\u001b[38;5;28;01mfor\u001b[39;00m l \u001b[38;5;129;01min\u001b[39;00m m]\n",
      "\u001b[36mFile \u001b[39m\u001b[32m/tmp/tmpyfmibu8e.py:1\u001b[39m, in \u001b[36m<listcomp>\u001b[39m\u001b[34m(.0)\u001b[39m\n\u001b[32m----> \u001b[39m\u001b[32m1\u001b[39m p=\u001b[38;5;28;01mlambda\u001b[39;00m m:[[(v==\u001b[32m5\u001b[39m)*\u001b[38;5;28;43mmax\u001b[39;49m\u001b[43m(\u001b[49m\u001b[43m{\u001b[49m\u001b[43m*\u001b[49m\u001b[38;5;28;43mmin\u001b[39;49m\u001b[43m(\u001b[49m\u001b[43m*\u001b[49m\u001b[43mm\u001b[49m\u001b[43m)\u001b[49m\u001b[43m}\u001b[49m\u001b[43m-\u001b[49m\u001b[43m{\u001b[49m\u001b[32;43m5\u001b[39;49m\u001b[43m}\u001b[49m\u001b[43m)\u001b[49m\u001b[38;5;28;01mfor\u001b[39;00m v \u001b[38;5;129;01min\u001b[39;00m l]\u001b[38;5;28;01mfor\u001b[39;00m l \u001b[38;5;129;01min\u001b[39;00m m]\n",
      "\u001b[31mValueError\u001b[39m: max() arg is an empty sequence"
     ]
    },
    {
     "data": {
      "image/png": "[encoded data removed]",
      "text/plain": [
       "<Figure size 600x300 with 1 Axes>"
      ]
     },
     "metadata": {},
     "output_type": "display_data"
    }
   ],
   "source": [
    "verify_program(389)"
   ]
  },
  {
   "cell_type": "code",
   "execution_count": 107,
   "id": "fa56a954-6c46-443a-a5d6-dbc128fa9025",
   "metadata": {
    "editable": true,
    "slideshow": {
     "slide_type": ""
    },
    "tags": []
   },
   "outputs": [],
   "source": [
    "a=[(i+2)<<5|(j+1) for i,j in [(-1,2),(0,2),(1,2),(2,-1),(2,0),(2,1)]]"
   ]
  },
  {
   "cell_type": "code",
   "execution_count": 7,
   "id": "968ff405-5127-4d94-8c63-2783152147eb",
   "metadata": {},
   "outputs": [
    {
     "data": {
      "text/plain": [
       "[32, 64, 96, 33, 97, 34, 66, 98]"
      ]
     },
     "execution_count": 7,
     "metadata": {},
     "output_type": "execute_result"
    }
   ],
   "source": [
    "a=[(i+2)<<5|(j+1) for i,j in [(-1,-1),(0,-1),(1,-1),(-1,0),(1,0),(-1,1),(0,1),(1,1)]]\n",
    "a"
   ]
  },
  {
   "cell_type": "code",
   "execution_count": 8,
   "id": "0b456204-cced-4c47-aa15-962a491d1e57",
   "metadata": {},
   "outputs": [
    {
     "name": "stdout",
     "output_type": "stream",
     "text": [
      "-1 -1\n",
      "0 -1\n",
      "1 -1\n",
      "-1 0\n",
      "1 0\n",
      "-1 1\n",
      "0 1\n",
      "1 1\n"
     ]
    }
   ],
   "source": [
    "for i in a:\n",
    "    print(i//32-2,i%4-1)"
   ]
  },
  {
   "cell_type": "code",
   "execution_count": 9,
   "id": "ba6940d8-5964-4b55-beb9-f042632be025",
   "metadata": {},
   "outputs": [],
   "source": [
    "a=[[1, 2, 3], [4, 5, 6], [7, 8, 9]]"
   ]
  },
  {
   "cell_type": "code",
   "execution_count": 10,
   "id": "9f0738c8-0ab5-414a-85ca-64e6cd5909b1",
   "metadata": {},
   "outputs": [
    {
     "data": {
      "text/plain": [
       "[[7, 4, 1], [8, 5, 2], [9, 6, 3]]"
      ]
     },
     "execution_count": 10,
     "metadata": {},
     "output_type": "execute_result"
    }
   ],
   "source": [
    "[*map(list,zip(*a[::-1]))]"
   ]
  },
  {
   "cell_type": "code",
   "execution_count": 11,
   "id": "aa1313f4-6703-43d1-a535-4eab1615842c",
   "metadata": {},
   "outputs": [],
   "source": [
    "import re\n",
    "m=re.search('2([^]]*)(.*2)', '[[1, 2, 2, 2], [3, 2, 3, 2], [4, 2, 2, 2]]')"
   ]
  },
  {
   "cell_type": "code",
   "execution_count": 12,
   "id": "2b14166b-7104-4148-bd11-5b16348406e9",
   "metadata": {},
   "outputs": [
    {
     "data": {
      "text/plain": [
       "(5, 40)"
      ]
     },
     "execution_count": 12,
     "metadata": {},
     "output_type": "execute_result"
    }
   ],
   "source": [
    "m.span()"
   ]
  },
  {
   "cell_type": "code",
   "execution_count": 13,
   "id": "619738dc-f986-4391-b70b-d5d279599694",
   "metadata": {},
   "outputs": [
    {
     "data": {
      "text/plain": [
       "<re.Match object; span=(5, 40), match='2, 2, 2], [3, 2, 3, 2], [4, 2, 2, 2'>"
      ]
     },
     "execution_count": 13,
     "metadata": {},
     "output_type": "execute_result"
    }
   ],
   "source": [
    "m"
   ]
  },
  {
   "cell_type": "code",
   "execution_count": 14,
   "id": "c41f295d-286f-4835-a7cb-b9bbd5af21ed",
   "metadata": {},
   "outputs": [
    {
     "data": {
      "text/plain": [
       "(', 2, 2', '], [3, 2, 3, 2], [4, 2, 2, 2')"
      ]
     },
     "execution_count": 14,
     "metadata": {},
     "output_type": "execute_result"
    }
   ],
   "source": [
    "m.groups()"
   ]
  }
 ],
 "metadata": {
  "kernelspec": {
   "display_name": "Python 3 (ipykernel)",
   "language": "python",
   "name": "python3"
  },
  "language_info": {
   "codemirror_mode": {
    "name": "ipython",
    "version": 3
   },
   "file_extension": ".py",
   "mimetype": "text/x-python",
   "name": "python",
   "nbconvert_exporter": "python",
   "pygments_lexer": "ipython3",
   "version": "3.11.13"
  }
 },
 "nbformat": 4,
 "nbformat_minor": 5
}
